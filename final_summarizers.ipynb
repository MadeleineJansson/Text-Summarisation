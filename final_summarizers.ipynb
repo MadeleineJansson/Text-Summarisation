{
 "cells": [
  {
   "cell_type": "markdown",
   "metadata": {},
   "source": [
    "# Extractive Text Summarization\n",
    "\n",
    "Models used: BERTSUM and TextRank\n",
    "\n",
    "Libraries and packages required for this notebook"
   ]
  },
  {
   "cell_type": "code",
   "execution_count": 6,
   "metadata": {},
   "outputs": [],
   "source": [
    "# BERTSUM\n",
    "from summarizer import Summarizer\n",
    "# Text Rank\n",
    "from summa import summarizer\n",
    "\n",
    "# Visualization\n",
    "from ipywidgets import interact, interactive, fixed, interact_manual, HBox, Layout, VBox, Text\n",
    "import ipywidgets as widgets\n",
    "\n",
    "# Extract full text from URL\n",
    "from newspaper import fulltext\n",
    "import requests\n",
    "\n",
    "# Validate URL\n",
    "import validators\n",
    "\n",
    "# ROUGE score\n",
    "from rouge_metric import PyRouge\n",
    "\n",
    "# Used to create a pickle file\n",
    "import pickle"
   ]
  },
  {
   "cell_type": "markdown",
   "metadata": {},
   "source": [
    "BERTSUM"
   ]
  },
  {
   "cell_type": "code",
   "execution_count": 2,
   "metadata": {},
   "outputs": [],
   "source": [
    "def bert_sum(input_val, max_ratio):\n",
    "    \"\"\"\n",
    "    Bert Extractive Model for text summarization, see https://pypi.org/project/bert-extractive-summarizer/.\n",
    "    IN: input_val (string), max lentgh (int)\n",
    "    OUT: summary (string)\n",
    "    \"\"\"\n",
    "    model = Summarizer()\n",
    "    if max_ratio == 0:\n",
    "        result = model(input_val)\n",
    "    else:\n",
    "        result = model(input_val, ratio=max_ratio)\n",
    "    summary = \"\".join(result)\n",
    "    print('BERT')\n",
    "    print(summary)\n",
    "    print()\n",
    "    return summary"
   ]
  },
  {
   "cell_type": "markdown",
   "metadata": {},
   "source": [
    "Text Rank"
   ]
  },
  {
   "cell_type": "code",
   "execution_count": 3,
   "metadata": {},
   "outputs": [],
   "source": [
    "def text_rank(input_val, max_ratio):\n",
    "    '''\n",
    "    Text rank extractive text summarization, see https://pypi.org/project/summa/.    \n",
    "    IN: input_val (string), max lentgh (int)\n",
    "    OUT: summary (string)\n",
    "    '''\n",
    "    if max_ratio == 0:\n",
    "        result = summarizer.summarize(input_val)\n",
    "    else:\n",
    "        result = summarizer.summarize(input_val, ratio=max_ratio)\n",
    "    print('Text Rank')\n",
    "    print(result)\n",
    "    print()\n",
    "    return result"
   ]
  },
  {
   "cell_type": "code",
   "execution_count": 4,
   "metadata": {},
   "outputs": [],
   "source": [
    "def summarize(input_val, max_ratio):\n",
    "    '''\n",
    "    Calls the summarizers to summarize input data.\n",
    "    IN: data (string), max lentgh (int)\n",
    "    OUT: - \n",
    "    '''\n",
    "    bert_summary = bert_sum(input_val, max_ratio)\n",
    "    print('------------------------------------------------------------------------------------------')\n",
    "    text_rank_summary = text_rank(input_val, max_ratio)"
   ]
  },
  {
   "cell_type": "code",
   "execution_count": 5,
   "metadata": {},
   "outputs": [],
   "source": [
    "pickle.dump(summarize, open('model/summarizers.pickle', 'wb'))"
   ]
  },
  {
   "cell_type": "code",
   "execution_count": 6,
   "metadata": {},
   "outputs": [],
   "source": [
    "pickle.dump(bert_sum, open('model/bert_sum.pickle', 'wb'))"
   ]
  },
  {
   "cell_type": "markdown",
   "metadata": {},
   "source": [
    " Recall-Oriented Understudy for Gisting Evaluation (ROUGE) score "
   ]
  },
  {
   "cell_type": "code",
   "execution_count": 18,
   "metadata": {},
   "outputs": [],
   "source": [
    "def rouge_score(hyp, ref):\n",
    "    '''\n",
    "    Computes the ROUGE score, see https://pypi.org/project/rouge-metric/.\n",
    "    IN: hypothesis which is the generated summary from the model, reference summary which is the golden summary (strings)\n",
    "    OUT: ROUGE scores (double)\n",
    "    '''\n",
    "    hypotheses = [hyp]\n",
    "\n",
    "    references = [[ref]]\n",
    "\n",
    "    # Evaluate document-wise ROUGE scores\n",
    "    rouge = PyRouge(rouge_n=(1, 2, 4), \n",
    "                rouge_l=True, \n",
    "                rouge_w=True,\n",
    "                rouge_w_weight=1.2, \n",
    "                rouge_s=True, \n",
    "                rouge_su=True, \n",
    "                skip_gap=4)\n",
    "\n",
    "    scores = rouge.evaluate(hypotheses, references)\n",
    "    for pair in scores.items():\n",
    "        print('------------------------------------------------------------------------------------------')\n",
    "        print(pair)\n",
    "    print('------------------------------------------------------------------------------------------')"
   ]
  },
  {
   "cell_type": "markdown",
   "metadata": {},
   "source": [
    "General functions "
   ]
  },
  {
   "cell_type": "code",
   "execution_count": 5,
   "metadata": {},
   "outputs": [],
   "source": [
    "def full_text_url(input_url):\n",
    "    \"\"\"\n",
    "    Convert article from url to a full text, see https://newspaper.readthedocs.io/en/latest/.\n",
    "    IN: URL (string)\n",
    "    OUT: full article (string)\n",
    "    \"\"\"\n",
    "    full_text = fulltext(requests.get(input_url).text)\n",
    "    return full_text\n",
    "\n",
    "def valid_url(input_url):\n",
    "    \"\"\"\n",
    "    Check if the url entered is valid.\n",
    "    IN: URL (string)\n",
    "    OUT: boolean\n",
    "    \"\"\"\n",
    "    valid = validators.url(input_url)\n",
    "    if valid == True:\n",
    "        return True\n",
    "    else:\n",
    "        return False\n",
    "    \n",
    "def max_length(max_value):\n",
    "    '''\n",
    "    Extracts max length as a ratio for the summary.\n",
    "    IN: max value entered in the field (string)\n",
    "    OUT: max ratio (float)\n",
    "    '''\n",
    "    print('Max function')\n",
    "    if not max_value == '0-100(%) of original text...' and not max_value:\n",
    "        print('if not')\n",
    "        max_ratio = float(max_value)/100\n",
    "    else: \n",
    "        print('else')\n",
    "        max_ratio = 0.0\n",
    "    return max_ratio\n"
   ]
  },
  {
   "cell_type": "markdown",
   "metadata": {},
   "source": [
    "Visualization using ipywidgets"
   ]
  },
  {
   "cell_type": "code",
   "execution_count": 49,
   "metadata": {},
   "outputs": [
    {
     "data": {
      "application/vnd.jupyter.widget-view+json": {
       "model_id": "cd49cdcdb126418c8895b5129b8cd5f7",
       "version_major": 2,
       "version_minor": 0
      },
      "text/plain": [
       "Image(value=b'\\x89PNG\\r\\n\\x1a\\n\\x00\\x00\\x00\\rIHDR\\x00\\x00\\x04#\\x00\\x00\\x00z\\x08\\x06\\x00\\x00\\x00\\x85\\x81\\x99\\xe…"
      ]
     },
     "metadata": {},
     "output_type": "display_data"
    },
    {
     "data": {
      "application/vnd.jupyter.widget-view+json": {
       "model_id": "7d4543f4f3cf4b45ae15cedf93cc2260",
       "version_major": 2,
       "version_minor": 0
      },
      "text/plain": [
       "interactive(children=(RadioButtons(description='Input Type:', options=('Text', 'URL', 'Document'), value='Text…"
      ]
     },
     "metadata": {},
     "output_type": "display_data"
    }
   ],
   "source": [
    "# defining and displayes the image for the visualization\n",
    "repoimage = widgets.Image(\n",
    "    value=open(r\"summary.PNG\", \"rb\").read(),\n",
    "    format='PNG',\n",
    "    width=900,\n",
    "    height=50,\n",
    ")\n",
    "\n",
    "display(repoimage)\n",
    "\n",
    "# creates buttons \n",
    "button = widgets.Button(description=\"Summarize\", button_style='success', layout={'left': '550px'})\n",
    "output = widgets.Output(layout={'border': '1px solid black'})\n",
    "text = widgets.Textarea(value='Type here...', placeholder='Type something', description='Text:',\n",
    "                        disabled=False, layout={'width': '700px', 'height': '200px'})\n",
    "text_url = widgets.Textarea(value='Type here...', placeholder='Type something', description='Text:',\n",
    "                        disabled=False, layout={'width': '700px', 'height': '40px'})\n",
    "#NEW\n",
    "max_length_ratio = widgets.Textarea(value='0-100(%) of original text...', placeholder='Type something', description='Max length:',\n",
    "                        disabled=False, layout={'width': '300px', 'height': '40px'})\n",
    "\n",
    "file_upload = widgets.FileUpload(accept='', multiple=False)\n",
    "\n",
    "\n",
    "def select(input):\n",
    "    '''\n",
    "    Returns the appearence depending on what button has been selected.\n",
    "    IN: selected option\n",
    "    OUT: -\n",
    "    '''\n",
    "    if input == 'Text':\n",
    "        print(\"Input Text: \")\n",
    "        display(text, max_length_ratio, button, output)\n",
    "    elif(input == 'URL'):\n",
    "        print(\"Input URL: \")\n",
    "        display(text_url, max_length_ratio, button, output)\n",
    "    else:\n",
    "        print(\"Input Doc: \")\n",
    "        display(file_upload, max_length_ratio, button, output)\n",
    "        \n",
    "\n",
    "# creates the selction buttons\n",
    "interact(select, input=widgets.RadioButtons(options=['Text', 'URL', 'Document'],\n",
    "                                            value='Text',\n",
    "                                            description='Input Type:',\n",
    "                                            disabled=False)\n",
    ")  \n",
    "\n",
    "@output.capture(clear_output=True)\n",
    "def on_button_clicked(b):\n",
    "    '''\n",
    "    Returns the summary after a selection has been made and text has been given.\n",
    "    IN: button clicked\n",
    "    OUT: - \n",
    "    '''\n",
    "    with output:\n",
    "        #print(text.value)\n",
    "        if len(file_upload.value) > 0:\n",
    "            print('Downloaded document')\n",
    "            with open(\"output.txt\", \"w+b\") as i:\n",
    "                i.write(file_upload.data[0])\n",
    "            doc_text=open('output.txt','r').read()\n",
    "    \n",
    "            max_ratio = max_length(max_length_ratio.value)\n",
    "            summarize(doc_text, max_ratio)\n",
    "            \n",
    "        elif valid_url(text_url.value) == True:\n",
    "            print('URL', type(text_url.value))\n",
    "            full_text = full_text_url(text_url.value)\n",
    "            \n",
    "            max_ratio = max_length(max_length_ratio.value)\n",
    "            summarize(full_text, max_ratio)\n",
    "            \n",
    "        else:            \n",
    "            print('Text')\n",
    "            print('max ratio', max_length_ratio.value, type(max_length_ratio.value))\n",
    "            max_ratio = max_length(max_length_ratio.value)\n",
    "            summarize(text.value, max_ratio)\n",
    "\n",
    "button.on_click(on_button_clicked)"
   ]
  }
 ],
 "metadata": {
  "kernelspec": {
   "display_name": "TensorFlow-GPU",
   "language": "python",
   "name": "tf-gpu"
  },
  "language_info": {
   "codemirror_mode": {
    "name": "ipython",
    "version": 3
   },
   "file_extension": ".py",
   "mimetype": "text/x-python",
   "name": "python",
   "nbconvert_exporter": "python",
   "pygments_lexer": "ipython3",
   "version": "3.7.9"
  }
 },
 "nbformat": 4,
 "nbformat_minor": 4
}
